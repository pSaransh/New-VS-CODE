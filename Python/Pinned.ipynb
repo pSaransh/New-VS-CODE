{
 "cells": [
  {
   "cell_type": "code",
   "execution_count": 2,
   "metadata": {},
   "outputs": [
    {
     "ename": "TypeError",
     "evalue": "only size-1 arrays can be converted to Python scalars",
     "output_type": "error",
     "traceback": [
      "\u001b[1;31m---------------------------------------------------------------------------\u001b[0m",
      "\u001b[1;31mTypeError\u001b[0m                                 Traceback (most recent call last)",
      "\u001b[1;32m~\\AppData\\Local\\Temp/ipykernel_11980/3998808573.py\u001b[0m in \u001b[0;36m<module>\u001b[1;34m\u001b[0m\n\u001b[0;32m      6\u001b[0m \u001b[1;32mdef\u001b[0m \u001b[0mf\u001b[0m\u001b[1;33m(\u001b[0m\u001b[0mp\u001b[0m\u001b[1;33m)\u001b[0m\u001b[1;33m:\u001b[0m \u001b[1;32mreturn\u001b[0m \u001b[0mm\u001b[0m\u001b[1;33m.\u001b[0m\u001b[0msqrt\u001b[0m\u001b[1;33m(\u001b[0m\u001b[0mp\u001b[0m\u001b[1;33m**\u001b[0m\u001b[1;36m2\u001b[0m\u001b[1;33m)\u001b[0m\u001b[1;33m\u001b[0m\u001b[1;33m\u001b[0m\u001b[0m\n\u001b[0;32m      7\u001b[0m \u001b[1;33m\u001b[0m\u001b[0m\n\u001b[1;32m----> 8\u001b[1;33m \u001b[0mplt\u001b[0m\u001b[1;33m.\u001b[0m\u001b[0mplot\u001b[0m\u001b[1;33m(\u001b[0m\u001b[0mx\u001b[0m\u001b[1;33m,\u001b[0m\u001b[0mf\u001b[0m\u001b[1;33m(\u001b[0m\u001b[0mx\u001b[0m\u001b[1;33m)\u001b[0m\u001b[1;33m)\u001b[0m\u001b[1;33m\u001b[0m\u001b[1;33m\u001b[0m\u001b[0m\n\u001b[0m",
      "\u001b[1;32m~\\AppData\\Local\\Temp/ipykernel_11980/3998808573.py\u001b[0m in \u001b[0;36mf\u001b[1;34m(p)\u001b[0m\n\u001b[0;32m      4\u001b[0m \u001b[1;32mimport\u001b[0m \u001b[0mmath\u001b[0m \u001b[1;32mas\u001b[0m \u001b[0mm\u001b[0m\u001b[1;33m\u001b[0m\u001b[1;33m\u001b[0m\u001b[0m\n\u001b[0;32m      5\u001b[0m \u001b[0mx\u001b[0m \u001b[1;33m=\u001b[0m \u001b[0mnp\u001b[0m\u001b[1;33m.\u001b[0m\u001b[0mlinspace\u001b[0m\u001b[1;33m(\u001b[0m\u001b[1;33m-\u001b[0m\u001b[1;36m3\u001b[0m\u001b[1;33m,\u001b[0m\u001b[1;36m3\u001b[0m\u001b[1;33m,\u001b[0m\u001b[1;36m1000\u001b[0m\u001b[1;33m)\u001b[0m\u001b[1;33m\u001b[0m\u001b[1;33m\u001b[0m\u001b[0m\n\u001b[1;32m----> 6\u001b[1;33m \u001b[1;32mdef\u001b[0m \u001b[0mf\u001b[0m\u001b[1;33m(\u001b[0m\u001b[0mp\u001b[0m\u001b[1;33m)\u001b[0m\u001b[1;33m:\u001b[0m \u001b[1;32mreturn\u001b[0m \u001b[0mm\u001b[0m\u001b[1;33m.\u001b[0m\u001b[0msqrt\u001b[0m\u001b[1;33m(\u001b[0m\u001b[0mp\u001b[0m\u001b[1;33m**\u001b[0m\u001b[1;36m2\u001b[0m\u001b[1;33m)\u001b[0m\u001b[1;33m\u001b[0m\u001b[1;33m\u001b[0m\u001b[0m\n\u001b[0m\u001b[0;32m      7\u001b[0m \u001b[1;33m\u001b[0m\u001b[0m\n\u001b[0;32m      8\u001b[0m \u001b[0mplt\u001b[0m\u001b[1;33m.\u001b[0m\u001b[0mplot\u001b[0m\u001b[1;33m(\u001b[0m\u001b[0mx\u001b[0m\u001b[1;33m,\u001b[0m\u001b[0mf\u001b[0m\u001b[1;33m(\u001b[0m\u001b[0mx\u001b[0m\u001b[1;33m)\u001b[0m\u001b[1;33m)\u001b[0m\u001b[1;33m\u001b[0m\u001b[1;33m\u001b[0m\u001b[0m\n",
      "\u001b[1;31mTypeError\u001b[0m: only size-1 arrays can be converted to Python scalars"
     ]
    }
   ],
   "source": [
    "%matplotlib inline\n",
    "import matplotlib.pyplot as plt\n",
    "import numpy as np\n",
    "import math as m\n",
    "x = np.linspace(-3,3,1000)\n",
    "def f(p): return m.sqrt(p**2)\n",
    "\n",
    "plt.plot(x,f(x))\n"
   ]
  },
  {
   "cell_type": "code",
   "execution_count": null,
   "metadata": {},
   "outputs": [],
   "source": [
    "def getList(string):\n",
    "    if len(string)==1: return [string]\n",
    "    str_list = []\n",
    "    i=1\n",
    "    j=0\n",
    "    while i<len(string):\n",
    "        res = (string[-i:]+string[j:-i])\n",
    "        str_list.append(res)\n",
    "        i+=1\n",
    "string_list = list(map(str,input().split(\",\")))\n",
    "main_str = input()\n",
    "special_strings_list = getList(main_str)\n",
    "print(special_strings_list)"
   ]
  },
  {
   "cell_type": "code",
   "execution_count": null,
   "metadata": {},
   "outputs": [],
   "source": [
    "string = \"Stark\"\n",
    "i=1\n",
    "j=0\n",
    "while i<len(string):\n",
    "    print(string[-i:],string[j:-i])\n",
    "    i+=1"
   ]
  },
  {
   "cell_type": "code",
   "execution_count": null,
   "metadata": {},
   "outputs": [],
   "source": [
    "def updateList(n):\n",
    "    narr[:] = [i**2 for i in n]\n",
    "##gap\n",
    "\n",
    "narr = [i for i in range(1,11)]\n",
    "updateList(narr)\n",
    "print(*narr)"
   ]
  },
  {
   "cell_type": "code",
   "execution_count": null,
   "metadata": {},
   "outputs": [],
   "source": [
    "def frn(x):\n",
    "    i=0\n",
    "    list3=[]\n",
    "    while(i<=3):\n",
    "        if len(x[i])<5:\n",
    "            list3.append(x[i])\n",
    "        i+=1\n",
    "    return list3\n",
    "\n",
    "list1=[\"mark\",\"eminem\",\"john\",\"logan\"]\n",
    "result = frn(list1)\n",
    "print(result)"
   ]
  },
  {
   "cell_type": "code",
   "execution_count": null,
   "metadata": {},
   "outputs": [],
   "source": [
    "def isPronic(n):\n",
    "    pr = 1+4*n\n",
    "    return (pr**0.5)%1==0.0\n",
    "isPronic(int(input()))"
   ]
  },
  {
   "cell_type": "code",
   "execution_count": null,
   "metadata": {},
   "outputs": [],
   "source": [
    "class Node:\n",
    "    def __init__(self,data=None):\n",
    "        self.data = data\n",
    "        self.next=None\n",
    "\n",
    "class LinkedList:\n",
    "    def __init__(self,head)->None:\n",
    "        self.head = head\n",
    "    \n",
    "    def append(self,val,pos=None):\n",
    "        newNode = Node(val)\n",
    "        point1 = self.head\n",
    "        if self.head == None:\n",
    "            self.head = newNode\n",
    "        elif pos==0:\n",
    "            newNode.next = self.head\n",
    "            self.head = newNode\n",
    "        elif pos is not None and pos!=0:\n",
    "            point2 = Node()\n",
    "            posChecker = 0\n",
    "            while point1 is not None and posChecker<pos-2:\n",
    "                point2 = point1\n",
    "                point1 = point1.next\n",
    "                posChecker+=1\n",
    "            point2.next = newNode\n",
    "            newNode.next = point1        \n",
    "        else:\n",
    "            while point1.next is not None:\n",
    "                point1 = point1.next\n",
    "            point1.next = newNode\n",
    "        return self.head\n",
    "    \n",
    "    def pop(self,pos=None):\n",
    "        point1 = self.head\n",
    "        if pos==0:\n",
    "            self.head = self.head.next\n",
    "        elif pos is not None and pos!=0:\n",
    "            point2 = Node()\n",
    "            posChecker = 0\n",
    "            while point1.next is not None and posChecker<pos-1:\n",
    "                point2 =  point1\n",
    "                point1 = point1.next\n",
    "                posChecker+=1\n",
    "            point2.next = point1.next    \n",
    "        else:\n",
    "            point2 = Node()\n",
    "            while point1.next is not None:\n",
    "                point2 =  point1\n",
    "                point1 = point1.next\n",
    "            point2.next=None\n",
    "        return self.head\n",
    "\n",
    "    def getHead(self):\n",
    "        return self.head\n",
    "\n",
    "    def lookup(self,key):\n",
    "        point1 = self.head\n",
    "        counter = 0\n",
    "        while point1 is not None:\n",
    "            counter+=1\n",
    "            if point1.data==key: return True,counter \n",
    "            point1 = point1.next\n",
    "        return False\n",
    "\n",
    "    def sortList(self):\n",
    "        self.head = self.mergeSort(self.head)\n",
    "        return self.head\n",
    "\n",
    "    def sortedMerge(self, left, right):\n",
    "        result = None\n",
    "        if left == None:\n",
    "            return right\n",
    "        if right == None:\n",
    "            return left\n",
    "        if left.data <= right.data:\n",
    "            result = left\n",
    "            result.next = self.sortedMerge(left.next, right)\n",
    "        else:\n",
    "            result = right\n",
    "            result.next = self.sortedMerge(left, right.next)\n",
    "        return result\n",
    "\n",
    "    def mergeSort(self, h):\n",
    "        if h == None or h.next == None:\n",
    "            return h\n",
    "        middle = self.getMiddle(h)\n",
    "        nextToMiddle = middle.next\n",
    "        middle.next = None\n",
    "        left = self.mergeSort(h)\n",
    "        right = self.mergeSort(nextToMiddle)\n",
    "        sortedlist = self.sortedMerge(left, right)\n",
    "        return sortedlist\n",
    "\n",
    "    def getMiddle(self, head):\n",
    "        if (head == None):\n",
    "            return head\n",
    "        slow = head\n",
    "        fast = head\n",
    "        while (fast.next != None and fast.next.next != None):\n",
    "            slow = slow.next\n",
    "            fast = fast.next.next\n",
    "        return slow\n",
    "\n",
    "    def traverse(self) -> None:\n",
    "        point1 = self.head\n",
    "        while point1 is not None:\n",
    "            print(point1.data,end=\" \")\n",
    "            point1 = point1.next\n",
    "        print()\n",
    "\n",
    "def main():\n",
    "    ll1 = LinkedList(Node(10))\n",
    "    for i in range(2,11):\n",
    "        ll1.append(i*10)\n",
    "    # ll1.traverse()\n",
    "    ll1.pop(4)\n",
    "    # ll1.traverse()\n",
    "    ll1.append(110,5)\n",
    "    ll1.sortList()\n",
    "    ll1.traverse()\n",
    "\n",
    "\n",
    "main()"
   ]
  },
  {
   "cell_type": "code",
   "execution_count": null,
   "metadata": {},
   "outputs": [],
   "source": [
    "def deleteOcc(string,nice):\n",
    "    i=0\n",
    "    while i<len(string):\n",
    "        if string[i:i+2] in string[i+2:]:\n",
    "            occ = string[i:i+2]\n",
    "            return deleteOcc(occ,string[i+2:])\n",
    "        i+=1            \n",
    "# n = input()\n",
    "res = deleteOcc('1432451465142014','1')\n",
    "res_str  = \"\"\n",
    "for i in res[0]: res_str+=i\n",
    "print(res_str)"
   ]
  },
  {
   "cell_type": "code",
   "execution_count": null,
   "metadata": {},
   "outputs": [],
   "source": [
    "class Ship:\n",
    "\n",
    "    base_charge=4000\n",
    "\n",
    "    def __init__(self,basefare,tax_amount): \n",
    "        self.basefare=basefare\n",
    "        self.tax_amount=tax_amount\n",
    "    def update_charges (self):\n",
    "\n",
    "        self.basefare+=2000\n",
    "        self.tax_amount-=2000\n",
    "    def update_tax (self): \n",
    "        custom_tax=3000\n",
    "        self.tax_amount+=custom_tax\n",
    "class Cruise(Ship):\n",
    "\n",
    "    def __init__(self,basefare,tax_amount, ballroom_fee):\n",
    "        super().__init__(basefare,tax_amount)\n",
    "        self.ballroom_fee=ballroom_fee\n",
    "\n",
    "    def update_charges(self):\n",
    "        self.tax_amount=3\n",
    "        self.tax_amount+=Ship.base_charge\n",
    "        super ().update_tax()\n",
    "        print (self.tax_amount)\n",
    "    def update_fare(self):\n",
    "        super ().update_charges()\n",
    "        self.basefare+=self.ballroom_fee\n",
    "        print (self.basefare)\n",
    "        print (self.tax_amount)\n",
    "cruise_obj=Cruise (5000,200,3000)\n",
    "cruise_obj.update_charges ()\n",
    "cruise_obj.update_fare ()"
   ]
  },
  {
   "cell_type": "code",
   "execution_count": null,
   "metadata": {},
   "outputs": [],
   "source": []
  },
  {
   "cell_type": "code",
   "execution_count": 17,
   "metadata": {},
   "outputs": [
    {
     "name": "stdout",
     "output_type": "stream",
     "text": [
      "['(', '{', '[', ')']\n",
      "false\n"
     ]
    }
   ],
   "source": [
    "s = '({[)'\n",
    "s_len = len(s)\n",
    "lst = []\n",
    "for i in range(s_len):\n",
    "    if len(lst)==0: lst.append(s[i])\n",
    "    elif(s[i]==')' and lst[-1]=='('):\n",
    "        lst.pop()\n",
    "        s_len-=1\n",
    "    elif(s[i]==']' and lst[-1]=='['):\n",
    "        lst.pop()\n",
    "        s_len-=1\n",
    "    elif(s[i]=='}' and lst[-1]=='{'):\n",
    "        lst.pop()\n",
    "        s_len-=1\n",
    "    else:\n",
    "        lst.append(s[i])\n",
    "print(lst)\n",
    "if len(lst)==0:print('true')\n",
    "else: print('false')"
   ]
  },
  {
   "cell_type": "code",
   "execution_count": 9,
   "metadata": {},
   "outputs": [
    {
     "name": "stdout",
     "output_type": "stream",
     "text": [
      "flush\n",
      "fl\n"
     ]
    }
   ],
   "source": [
    "#fuck this\n",
    "#longest common subsequence\n",
    "def someFunctionThatWillDoShit(string_arr : list):\n",
    "    string_arr_len = len(string_arr)\n",
    "    string1 : str = string_arr[0]\n",
    "    string2 : str = string_arr[1]\n",
    "    \n",
    "    common_subsequence = \"\"\n",
    "    less_len = 0\n",
    "    if len(string2)>len(string1):\n",
    "        less_len = len(string1)\n",
    "    else:\n",
    "        less_len = len(string2)\n",
    "    for i in range(less_len):\n",
    "        if string1[i]==string2[i] and i < less_len:\n",
    "            common_subsequence+=string1[i]\n",
    "    for i in range(2,string_arr_len):\n",
    "        if string_arr[i].startswith(common_subsequence):\n",
    "            pass\n",
    "    return common_subsequence\n",
    "    \n",
    "string_arr = ['flower','fling','flush']\n",
    "print(someFunctionThatWillDoShit(string_arr))"
   ]
  },
  {
   "cell_type": "code",
   "execution_count": 17,
   "metadata": {},
   "outputs": [
    {
     "name": "stdout",
     "output_type": "stream",
     "text": [
      "['g', 'e', 'e', 'k', 's', 'f', 'o', 'r', 'g', 'e', 'e', 'k', '$']\n",
      "['e', 'e']\n",
      "geksforgek\n"
     ]
    }
   ],
   "source": [
    "def getStrFromList(newList):\n",
    "    strings = \"\"\n",
    "    for i in newList:\n",
    "        strings+=i\n",
    "    return strings\n",
    "str = \"geeksforgeek$\"\n",
    "newL = list(str.strip())\n",
    "print(newL)\n",
    "newList = []\n",
    "repeatedList = []\n",
    "j=0\n",
    "for i in range(len(str)-1):\n",
    "    if str[i]==str[i+1]: repeatedList.append(str[i])\n",
    "    else: newList.append(str[i])\n",
    "print(repeatedList)\n",
    "print(getStrFromList(newList))"
   ]
  },
  {
   "cell_type": "code",
   "execution_count": 1,
   "metadata": {},
   "outputs": [
    {
     "name": "stdout",
     "output_type": "stream",
     "text": [
      "True\n"
     ]
    }
   ],
   "source": [
    "from itertools import permutations\n",
    "def isPresent(s1:str,s2:str) -> bool:\n",
    "    s1_charArray = s1.split()\n",
    "    s2_charArray = s2.split()\n",
    "    \n",
    "\n",
    "print(isPresent(\"ab\",\n",
    "\"ab\"))\n",
    "print(\"ediabooo\")\n"
   ]
  },
  {
   "cell_type": "code",
   "execution_count": null,
   "metadata": {},
   "outputs": [],
   "source": [
    "from itertools import combinations as pm\n",
    "arr = []\n",
    "for i in range(1,5001):\n",
    "    arr.append(i)\n",
    "result=[]\n",
    "all_perms = list(pm(arr,3))\n",
    "for i in all_perms:\n",
    "    if sum(i)==8:\n",
    "        res=list(i)\n",
    "for i in res:\n",
    "    if i in arr:\n",
    "        result.append(arr.index(i)+1)\n",
    "result"
   ]
  }
 ],
 "metadata": {
  "interpreter": {
   "hash": "2be5faf79681da6f2a61fdfdd5405d65d042280f7fba6178067603e3a2925119"
  },
  "kernelspec": {
   "display_name": "Python 3.10.0 64-bit",
   "language": "python",
   "name": "python3"
  },
  "language_info": {
   "codemirror_mode": {
    "name": "ipython",
    "version": 3
   },
   "file_extension": ".py",
   "mimetype": "text/x-python",
   "name": "python",
   "nbconvert_exporter": "python",
   "pygments_lexer": "ipython3",
   "version": "3.10.0"
  },
  "orig_nbformat": 4
 },
 "nbformat": 4,
 "nbformat_minor": 2
}
