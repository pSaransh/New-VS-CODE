{
 "cells": [
  {
   "cell_type": "code",
   "execution_count": 7,
   "metadata": {},
   "outputs": [
    {
     "data": {
      "text/plain": [
       "[<matplotlib.lines.Line2D at 0x1f49a365090>]"
      ]
     },
     "execution_count": 7,
     "metadata": {},
     "output_type": "execute_result"
    },
    {
     "data": {
      "image/png": "[encoded data removed]",
      "text/plain": [
       "<Figure size 432x288 with 1 Axes>"
      ]
     },
     "metadata": {
      "needs_background": "light"
     },
     "output_type": "display_data"
    }
   ],
   "source": [
    "%matplotlib inline\n",
    "import matplotlib.pyplot as plt\n",
    "import numpy as np\n",
    "import math as m\n",
    "x = np.linspace(-3,3,1000)\n",
    "def f(p): return m.sqrt(16-p**2)\n",
    "\n",
    "plt.plot(x,f(x))\n"
   ]
  },
  {
   "cell_type": "code",
   "execution_count": 7,
   "metadata": {},
   "outputs": [
    {
     "name": "stdout",
     "output_type": "stream",
     "text": [
      "1 4 9 16 25 36 49 64 81 100\n"
     ]
    }
   ],
   "source": [
    "def updateList(n):\n",
    "    narr[:] = [i**2 for i in n]\n",
    "##gap\n",
    "\n",
    "narr = [i for i in range(1,11)]\n",
    "updateList(narr)\n",
    "print(*narr)"
   ]
  },
  {
   "cell_type": "code",
   "execution_count": 2,
   "metadata": {},
   "outputs": [
    {
     "name": "stdout",
     "output_type": "stream",
     "text": [
      "['mark', 'john']\n"
     ]
    }
   ],
   "source": [
    "def frn(x):\n",
    "    i=0\n",
    "    list3=[]\n",
    "    while(i<=3):\n",
    "        if len(x[i])<5:\n",
    "            list3.append(x[i])\n",
    "        i+=1\n",
    "    return list3\n",
    "\n",
    "list1=[\"mark\",\"eminem\",\"john\",\"logan\"]\n",
    "result = frn(list1)\n",
    "print(result)"
   ]
  },
  {
   "cell_type": "code",
   "execution_count": 15,
   "metadata": {},
   "outputs": [
    {
     "data": {
      "text/plain": [
       "True"
      ]
     },
     "execution_count": 15,
     "metadata": {},
     "output_type": "execute_result"
    }
   ],
   "source": [
    "def isPronic(n):\n",
    "    pr = 1+4*n\n",
    "    return (pr**0.5)%1==0.0\n",
    "isPronic(int(input()))"
   ]
  },
  {
   "cell_type": "code",
   "execution_count": 3,
   "metadata": {},
   "outputs": [
    {
     "name": "stdout",
     "output_type": "stream",
     "text": [
      "10 20 30 50 60 70 80 90 100 110 \n"
     ]
    }
   ],
   "source": [
    "class Node:\n",
    "    def __init__(self,data=None):\n",
    "        self.data = data\n",
    "        self.next=None\n",
    "\n",
    "class LinkedList:\n",
    "    def __init__(self,head)->None:\n",
    "        self.head = head\n",
    "    \n",
    "    def append(self,val,pos=None):\n",
    "        newNode = Node(val)\n",
    "        point1 = self.head\n",
    "        if self.head == None:\n",
    "            self.head = newNode\n",
    "        elif pos==0:\n",
    "            newNode.next = self.head\n",
    "            self.head = newNode\n",
    "        elif pos is not None and pos!=0:\n",
    "            point2 = Node()\n",
    "            posChecker = 0\n",
    "            while point1 is not None and posChecker<pos-2:\n",
    "                point2 = point1\n",
    "                point1 = point1.next\n",
    "                posChecker+=1\n",
    "            point2.next = newNode\n",
    "            newNode.next = point1        \n",
    "        else:\n",
    "            while point1.next is not None:\n",
    "                point1 = point1.next\n",
    "            point1.next = newNode\n",
    "        return self.head\n",
    "    \n",
    "    def pop(self,pos=None):\n",
    "        point1 = self.head\n",
    "        if pos==0:\n",
    "            self.head = self.head.next\n",
    "        elif pos is not None and pos!=0:\n",
    "            point2 = Node()\n",
    "            posChecker = 0\n",
    "            while point1.next is not None and posChecker<pos-1:\n",
    "                point2 =  point1\n",
    "                point1 = point1.next\n",
    "                posChecker+=1\n",
    "            point2.next = point1.next    \n",
    "        else:\n",
    "            point2 = Node()\n",
    "            while point1.next is not None:\n",
    "                point2 =  point1\n",
    "                point1 = point1.next\n",
    "            point2.next=None\n",
    "        return self.head\n",
    "\n",
    "    def getHead(self):\n",
    "        return self.head\n",
    "\n",
    "    def lookup(self,key):\n",
    "        point1 = self.head\n",
    "        counter = 0\n",
    "        while point1 is not None:\n",
    "            counter+=1\n",
    "            if point1.data==key: return True,counter \n",
    "            point1 = point1.next\n",
    "        return False\n",
    "\n",
    "    def sortList(self):\n",
    "        self.head = self.mergeSort(self.head)\n",
    "        return self.head\n",
    "\n",
    "    def sortedMerge(self, left, right):\n",
    "        result = None\n",
    "        if left == None:\n",
    "            return right\n",
    "        if right == None:\n",
    "            return left\n",
    "        if left.data <= right.data:\n",
    "            result = left\n",
    "            result.next = self.sortedMerge(left.next, right)\n",
    "        else:\n",
    "            result = right\n",
    "            result.next = self.sortedMerge(left, right.next)\n",
    "        return result\n",
    "\n",
    "    def mergeSort(self, h):\n",
    "        if h == None or h.next == None:\n",
    "            return h\n",
    "        middle = self.getMiddle(h)\n",
    "        nextToMiddle = middle.next\n",
    "        middle.next = None\n",
    "        left = self.mergeSort(h)\n",
    "        right = self.mergeSort(nextToMiddle)\n",
    "        sortedlist = self.sortedMerge(left, right)\n",
    "        return sortedlist\n",
    "\n",
    "    def getMiddle(self, head):\n",
    "        if (head == None):\n",
    "            return head\n",
    "        slow = head\n",
    "        fast = head\n",
    "        while (fast.next != None and fast.next.next != None):\n",
    "            slow = slow.next\n",
    "            fast = fast.next.next\n",
    "        return slow\n",
    "\n",
    "    def traverse(self) -> None:\n",
    "        point1 = self.head\n",
    "        while point1 is not None:\n",
    "            print(point1.data,end=\" \")\n",
    "            point1 = point1.next\n",
    "        print()\n",
    "\n",
    "def main():\n",
    "    ll1 = LinkedList(Node(10))\n",
    "    for i in range(2,11):\n",
    "        ll1.append(i*10)\n",
    "    # ll1.traverse()\n",
    "    ll1.pop(4)\n",
    "    # ll1.traverse()\n",
    "    ll1.append(110,5)\n",
    "    ll1.sortList()\n",
    "    ll1.traverse()\n",
    "\n",
    "\n",
    "main()"
   ]
  },
  {
   "cell_type": "code",
   "execution_count": 18,
   "metadata": {},
   "outputs": [
    {
     "name": "stdout",
     "output_type": "stream",
     "text": [
      "32456520\n"
     ]
    }
   ],
   "source": [
    "def deleteOcc(string):\n",
    "    i=0\n",
    "    while i<len(string):\n",
    "        if string[i:i+2] in string[i+2:]:\n",
    "            occ = string[i:i+2]\n",
    "            return removeOcc(occ,string[i+2:])\n",
    "        i+=1            \n",
    "# n = input()\n",
    "res = deleteOcc('1432451465142014')\n",
    "res_str  = \"\"\n",
    "for i in res[0]: res_str+=i\n",
    "print(res_str)"
   ]
  }
 ],
 "metadata": {
  "interpreter": {
   "hash": "2be5faf79681da6f2a61fdfdd5405d65d042280f7fba6178067603e3a2925119"
  },
  "kernelspec": {
   "display_name": "Python 3.10.0 64-bit",
   "language": "python",
   "name": "python3"
  },
  "language_info": {
   "codemirror_mode": {
    "name": "ipython",
    "version": 3
   },
   "file_extension": ".py",
   "mimetype": "text/x-python",
   "name": "python",
   "nbconvert_exporter": "python",
   "pygments_lexer": "ipython3",
   "version": "3.10.0"
  },
  "orig_nbformat": 4
 },
 "nbformat": 4,
 "nbformat_minor": 2
}
